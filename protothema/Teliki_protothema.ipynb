{
  "nbformat": 4,
  "nbformat_minor": 0,
  "metadata": {
    "kernelspec": {
      "display_name": "Python 3",
      "language": "python",
      "name": "python3"
    },
    "language_info": {
      "codemirror_mode": {
        "name": "ipython",
        "version": 3
      },
      "file_extension": ".py",
      "mimetype": "text/x-python",
      "name": "python",
      "nbconvert_exporter": "python",
      "pygments_lexer": "ipython3",
      "version": "3.6.4"
    },
    "colab": {
      "name": "Teliki protothema.ipynb",
      "provenance": [],
      "collapsed_sections": []
    }
  },
  "cells": [
    {
      "cell_type": "code",
      "metadata": {
        "id": "Rx8rQ4fbX-_Q",
        "colab": {
          "base_uri": "https://localhost:8080/"
        },
        "outputId": "4cb1cddd-dad2-4e6c-cbce-2d6351a80174"
      },
      "source": [
        "!pip install selenium\n",
        "!apt-get update # to update ubuntu to correctly run apt install\n",
        "!apt install chromium-chromedriver\n",
        "!cp /usr/lib/chromium-browser/chromedriver /usr/bin\n",
        "import sys\n",
        "sys.path.insert(0,'/usr/lib/chromium-browser/chromedriver')\n",
        "from selenium import webdriver\n",
        "chrome_options = webdriver.ChromeOptions()\n",
        "chrome_options.add_argument('--headless')\n",
        "chrome_options.add_argument('--no-sandbox')\n",
        "chrome_options.add_argument('--disable-dev-shm-usage')\n",
        "driver = webdriver.Chrome('chromedriver',chrome_options=chrome_options)\n"
      ],
      "execution_count": null,
      "outputs": [
        {
          "output_type": "stream",
          "text": [
            "Collecting selenium\n",
            "\u001b[?25l  Downloading https://files.pythonhosted.org/packages/80/d6/4294f0b4bce4de0abf13e17190289f9d0613b0a44e5dd6a7f5ca98459853/selenium-3.141.0-py2.py3-none-any.whl (904kB)\n",
            "\r\u001b[K     |▍                               | 10kB 14.1MB/s eta 0:00:01\r\u001b[K     |▊                               | 20kB 20.4MB/s eta 0:00:01\r\u001b[K     |█                               | 30kB 17.1MB/s eta 0:00:01\r\u001b[K     |█▌                              | 40kB 14.8MB/s eta 0:00:01\r\u001b[K     |█▉                              | 51kB 8.7MB/s eta 0:00:01\r\u001b[K     |██▏                             | 61kB 10.0MB/s eta 0:00:01\r\u001b[K     |██▌                             | 71kB 8.2MB/s eta 0:00:01\r\u001b[K     |███                             | 81kB 9.1MB/s eta 0:00:01\r\u001b[K     |███▎                            | 92kB 9.3MB/s eta 0:00:01\r\u001b[K     |███▋                            | 102kB 8.1MB/s eta 0:00:01\r\u001b[K     |████                            | 112kB 8.1MB/s eta 0:00:01\r\u001b[K     |████▍                           | 122kB 8.1MB/s eta 0:00:01\r\u001b[K     |████▊                           | 133kB 8.1MB/s eta 0:00:01\r\u001b[K     |█████                           | 143kB 8.1MB/s eta 0:00:01\r\u001b[K     |█████▍                          | 153kB 8.1MB/s eta 0:00:01\r\u001b[K     |█████▉                          | 163kB 8.1MB/s eta 0:00:01\r\u001b[K     |██████▏                         | 174kB 8.1MB/s eta 0:00:01\r\u001b[K     |██████▌                         | 184kB 8.1MB/s eta 0:00:01\r\u001b[K     |██████▉                         | 194kB 8.1MB/s eta 0:00:01\r\u001b[K     |███████▎                        | 204kB 8.1MB/s eta 0:00:01\r\u001b[K     |███████▋                        | 215kB 8.1MB/s eta 0:00:01\r\u001b[K     |████████                        | 225kB 8.1MB/s eta 0:00:01\r\u001b[K     |████████▎                       | 235kB 8.1MB/s eta 0:00:01\r\u001b[K     |████████▊                       | 245kB 8.1MB/s eta 0:00:01\r\u001b[K     |█████████                       | 256kB 8.1MB/s eta 0:00:01\r\u001b[K     |█████████▍                      | 266kB 8.1MB/s eta 0:00:01\r\u001b[K     |█████████▉                      | 276kB 8.1MB/s eta 0:00:01\r\u001b[K     |██████████▏                     | 286kB 8.1MB/s eta 0:00:01\r\u001b[K     |██████████▌                     | 296kB 8.1MB/s eta 0:00:01\r\u001b[K     |██████████▉                     | 307kB 8.1MB/s eta 0:00:01\r\u001b[K     |███████████▎                    | 317kB 8.1MB/s eta 0:00:01\r\u001b[K     |███████████▋                    | 327kB 8.1MB/s eta 0:00:01\r\u001b[K     |████████████                    | 337kB 8.1MB/s eta 0:00:01\r\u001b[K     |████████████▎                   | 348kB 8.1MB/s eta 0:00:01\r\u001b[K     |████████████▊                   | 358kB 8.1MB/s eta 0:00:01\r\u001b[K     |█████████████                   | 368kB 8.1MB/s eta 0:00:01\r\u001b[K     |█████████████▍                  | 378kB 8.1MB/s eta 0:00:01\r\u001b[K     |█████████████▊                  | 389kB 8.1MB/s eta 0:00:01\r\u001b[K     |██████████████▏                 | 399kB 8.1MB/s eta 0:00:01\r\u001b[K     |██████████████▌                 | 409kB 8.1MB/s eta 0:00:01\r\u001b[K     |██████████████▉                 | 419kB 8.1MB/s eta 0:00:01\r\u001b[K     |███████████████▏                | 430kB 8.1MB/s eta 0:00:01\r\u001b[K     |███████████████▋                | 440kB 8.1MB/s eta 0:00:01\r\u001b[K     |████████████████                | 450kB 8.1MB/s eta 0:00:01\r\u001b[K     |████████████████▎               | 460kB 8.1MB/s eta 0:00:01\r\u001b[K     |████████████████▋               | 471kB 8.1MB/s eta 0:00:01\r\u001b[K     |█████████████████               | 481kB 8.1MB/s eta 0:00:01\r\u001b[K     |█████████████████▍              | 491kB 8.1MB/s eta 0:00:01\r\u001b[K     |█████████████████▊              | 501kB 8.1MB/s eta 0:00:01\r\u001b[K     |██████████████████▏             | 512kB 8.1MB/s eta 0:00:01\r\u001b[K     |██████████████████▌             | 522kB 8.1MB/s eta 0:00:01\r\u001b[K     |██████████████████▉             | 532kB 8.1MB/s eta 0:00:01\r\u001b[K     |███████████████████▏            | 542kB 8.1MB/s eta 0:00:01\r\u001b[K     |███████████████████▋            | 552kB 8.1MB/s eta 0:00:01\r\u001b[K     |████████████████████            | 563kB 8.1MB/s eta 0:00:01\r\u001b[K     |████████████████████▎           | 573kB 8.1MB/s eta 0:00:01\r\u001b[K     |████████████████████▋           | 583kB 8.1MB/s eta 0:00:01\r\u001b[K     |█████████████████████           | 593kB 8.1MB/s eta 0:00:01\r\u001b[K     |█████████████████████▍          | 604kB 8.1MB/s eta 0:00:01\r\u001b[K     |█████████████████████▊          | 614kB 8.1MB/s eta 0:00:01\r\u001b[K     |██████████████████████          | 624kB 8.1MB/s eta 0:00:01\r\u001b[K     |██████████████████████▌         | 634kB 8.1MB/s eta 0:00:01\r\u001b[K     |██████████████████████▉         | 645kB 8.1MB/s eta 0:00:01\r\u001b[K     |███████████████████████▏        | 655kB 8.1MB/s eta 0:00:01\r\u001b[K     |███████████████████████▌        | 665kB 8.1MB/s eta 0:00:01\r\u001b[K     |████████████████████████        | 675kB 8.1MB/s eta 0:00:01\r\u001b[K     |████████████████████████▎       | 686kB 8.1MB/s eta 0:00:01\r\u001b[K     |████████████████████████▋       | 696kB 8.1MB/s eta 0:00:01\r\u001b[K     |█████████████████████████       | 706kB 8.1MB/s eta 0:00:01\r\u001b[K     |█████████████████████████▍      | 716kB 8.1MB/s eta 0:00:01\r\u001b[K     |█████████████████████████▊      | 727kB 8.1MB/s eta 0:00:01\r\u001b[K     |██████████████████████████      | 737kB 8.1MB/s eta 0:00:01\r\u001b[K     |██████████████████████████▍     | 747kB 8.1MB/s eta 0:00:01\r\u001b[K     |██████████████████████████▉     | 757kB 8.1MB/s eta 0:00:01\r\u001b[K     |███████████████████████████▏    | 768kB 8.1MB/s eta 0:00:01\r\u001b[K     |███████████████████████████▌    | 778kB 8.1MB/s eta 0:00:01\r\u001b[K     |████████████████████████████    | 788kB 8.1MB/s eta 0:00:01\r\u001b[K     |████████████████████████████▎   | 798kB 8.1MB/s eta 0:00:01\r\u001b[K     |████████████████████████████▋   | 808kB 8.1MB/s eta 0:00:01\r\u001b[K     |█████████████████████████████   | 819kB 8.1MB/s eta 0:00:01\r\u001b[K     |█████████████████████████████▍  | 829kB 8.1MB/s eta 0:00:01\r\u001b[K     |█████████████████████████████▊  | 839kB 8.1MB/s eta 0:00:01\r\u001b[K     |██████████████████████████████  | 849kB 8.1MB/s eta 0:00:01\r\u001b[K     |██████████████████████████████▍ | 860kB 8.1MB/s eta 0:00:01\r\u001b[K     |██████████████████████████████▉ | 870kB 8.1MB/s eta 0:00:01\r\u001b[K     |███████████████████████████████▏| 880kB 8.1MB/s eta 0:00:01\r\u001b[K     |███████████████████████████████▌| 890kB 8.1MB/s eta 0:00:01\r\u001b[K     |███████████████████████████████▉| 901kB 8.1MB/s eta 0:00:01\r\u001b[K     |████████████████████████████████| 911kB 8.1MB/s \n",
            "\u001b[?25hRequirement already satisfied: urllib3 in /usr/local/lib/python3.7/dist-packages (from selenium) (1.24.3)\n",
            "Installing collected packages: selenium\n",
            "Successfully installed selenium-3.141.0\n",
            "Ign:1 https://developer.download.nvidia.com/compute/cuda/repos/ubuntu1804/x86_64  InRelease\n",
            "Hit:2 https://cloud.r-project.org/bin/linux/ubuntu bionic-cran40/ InRelease\n",
            "Get:3 http://security.ubuntu.com/ubuntu bionic-security InRelease [88.7 kB]\n",
            "Ign:4 https://developer.download.nvidia.com/compute/machine-learning/repos/ubuntu1804/x86_64  InRelease\n",
            "Get:5 https://developer.download.nvidia.com/compute/cuda/repos/ubuntu1804/x86_64  Release [697 B]\n",
            "Hit:6 https://developer.download.nvidia.com/compute/machine-learning/repos/ubuntu1804/x86_64  Release\n",
            "Get:7 https://developer.download.nvidia.com/compute/cuda/repos/ubuntu1804/x86_64  Release.gpg [836 B]\n",
            "Hit:8 http://ppa.launchpad.net/c2d4u.team/c2d4u4.0+/ubuntu bionic InRelease\n",
            "Hit:9 http://archive.ubuntu.com/ubuntu bionic InRelease\n",
            "Get:10 http://archive.ubuntu.com/ubuntu bionic-updates InRelease [88.7 kB]\n",
            "Hit:11 http://ppa.launchpad.net/cran/libgit2/ubuntu bionic InRelease\n",
            "Get:13 http://ppa.launchpad.net/deadsnakes/ppa/ubuntu bionic InRelease [15.9 kB]\n",
            "Ign:14 https://developer.download.nvidia.com/compute/cuda/repos/ubuntu1804/x86_64  Packages\n",
            "Get:14 https://developer.download.nvidia.com/compute/cuda/repos/ubuntu1804/x86_64  Packages [599 kB]\n",
            "Get:15 http://archive.ubuntu.com/ubuntu bionic-backports InRelease [74.6 kB]\n",
            "Hit:16 http://ppa.launchpad.net/graphics-drivers/ppa/ubuntu bionic InRelease\n",
            "Get:17 http://security.ubuntu.com/ubuntu bionic-security/main amd64 Packages [2,185 kB]\n",
            "Get:18 http://security.ubuntu.com/ubuntu bionic-security/universe amd64 Packages [1,415 kB]\n",
            "Get:19 http://archive.ubuntu.com/ubuntu bionic-updates/main amd64 Packages [2,619 kB]\n",
            "Get:20 http://ppa.launchpad.net/deadsnakes/ppa/ubuntu bionic/main amd64 Packages [40.9 kB]\n",
            "Get:21 http://archive.ubuntu.com/ubuntu bionic-updates/universe amd64 Packages [2,185 kB]\n",
            "Fetched 9,312 kB in 3s (2,755 kB/s)\n",
            "Reading package lists... Done\n",
            "Reading package lists... Done\n",
            "Building dependency tree       \n",
            "Reading state information... Done\n",
            "The following additional packages will be installed:\n",
            "  chromium-browser chromium-browser-l10n chromium-codecs-ffmpeg-extra\n",
            "Suggested packages:\n",
            "  webaccounts-chromium-extension unity-chromium-extension\n",
            "The following NEW packages will be installed:\n",
            "  chromium-browser chromium-browser-l10n chromium-chromedriver\n",
            "  chromium-codecs-ffmpeg-extra\n",
            "0 upgraded, 4 newly installed, 0 to remove and 47 not upgraded.\n",
            "Need to get 86.0 MB of archives.\n",
            "After this operation, 298 MB of additional disk space will be used.\n",
            "Get:1 http://archive.ubuntu.com/ubuntu bionic-updates/universe amd64 chromium-codecs-ffmpeg-extra amd64 91.0.4472.101-0ubuntu0.18.04.1 [1,124 kB]\n",
            "Get:2 http://archive.ubuntu.com/ubuntu bionic-updates/universe amd64 chromium-browser amd64 91.0.4472.101-0ubuntu0.18.04.1 [76.1 MB]\n",
            "Get:3 http://archive.ubuntu.com/ubuntu bionic-updates/universe amd64 chromium-browser-l10n all 91.0.4472.101-0ubuntu0.18.04.1 [3,937 kB]\n",
            "Get:4 http://archive.ubuntu.com/ubuntu bionic-updates/universe amd64 chromium-chromedriver amd64 91.0.4472.101-0ubuntu0.18.04.1 [4,837 kB]\n",
            "Fetched 86.0 MB in 6s (15.2 MB/s)\n",
            "Selecting previously unselected package chromium-codecs-ffmpeg-extra.\n",
            "(Reading database ... 160772 files and directories currently installed.)\n",
            "Preparing to unpack .../chromium-codecs-ffmpeg-extra_91.0.4472.101-0ubuntu0.18.04.1_amd64.deb ...\n",
            "Unpacking chromium-codecs-ffmpeg-extra (91.0.4472.101-0ubuntu0.18.04.1) ...\n",
            "Selecting previously unselected package chromium-browser.\n",
            "Preparing to unpack .../chromium-browser_91.0.4472.101-0ubuntu0.18.04.1_amd64.deb ...\n",
            "Unpacking chromium-browser (91.0.4472.101-0ubuntu0.18.04.1) ...\n",
            "Selecting previously unselected package chromium-browser-l10n.\n",
            "Preparing to unpack .../chromium-browser-l10n_91.0.4472.101-0ubuntu0.18.04.1_all.deb ...\n",
            "Unpacking chromium-browser-l10n (91.0.4472.101-0ubuntu0.18.04.1) ...\n",
            "Selecting previously unselected package chromium-chromedriver.\n",
            "Preparing to unpack .../chromium-chromedriver_91.0.4472.101-0ubuntu0.18.04.1_amd64.deb ...\n",
            "Unpacking chromium-chromedriver (91.0.4472.101-0ubuntu0.18.04.1) ...\n",
            "Setting up chromium-codecs-ffmpeg-extra (91.0.4472.101-0ubuntu0.18.04.1) ...\n",
            "Setting up chromium-browser (91.0.4472.101-0ubuntu0.18.04.1) ...\n",
            "update-alternatives: using /usr/bin/chromium-browser to provide /usr/bin/x-www-browser (x-www-browser) in auto mode\n",
            "update-alternatives: using /usr/bin/chromium-browser to provide /usr/bin/gnome-www-browser (gnome-www-browser) in auto mode\n",
            "Setting up chromium-chromedriver (91.0.4472.101-0ubuntu0.18.04.1) ...\n",
            "Setting up chromium-browser-l10n (91.0.4472.101-0ubuntu0.18.04.1) ...\n",
            "Processing triggers for man-db (2.8.3-2ubuntu0.1) ...\n",
            "Processing triggers for hicolor-icon-theme (0.17-2) ...\n",
            "Processing triggers for mime-support (3.60ubuntu1) ...\n",
            "Processing triggers for libc-bin (2.27-3ubuntu1.2) ...\n",
            "/sbin/ldconfig.real: /usr/local/lib/python3.7/dist-packages/ideep4py/lib/libmkldnn.so.0 is not a symbolic link\n",
            "\n",
            "cp: '/usr/lib/chromium-browser/chromedriver' and '/usr/bin/chromedriver' are the same file\n"
          ],
          "name": "stdout"
        },
        {
          "output_type": "stream",
          "text": [
            "/usr/local/lib/python3.7/dist-packages/ipykernel_launcher.py:12: DeprecationWarning: use options instead of chrome_options\n",
            "  if sys.path[0] == '':\n"
          ],
          "name": "stderr"
        }
      ]
    },
    {
      "cell_type": "code",
      "metadata": {
        "id": "HrTC0W6yQgjD"
      },
      "source": [
        "import time\n",
        "\n",
        "from bs4 import BeautifulSoup\n",
        "\n",
        "#driver = webdriver.Chrome()\n",
        "driver.implicitly_wait(30)\n",
        "\n",
        "# download webdriver from https://chromedriver.storage.googleapis.com/index.html?path=83.0.4103.39/\n",
        "# and put the executable in /usr/local/bin\n"
      ],
      "execution_count": null,
      "outputs": []
    },
    {
      "cell_type": "code",
      "metadata": {
        "id": "ZAO20d7lQgjW",
        "colab": {
          "base_uri": "https://localhost:8080/"
        },
        "outputId": "9aae4ec3-dd1d-46c2-f3fa-e7649009c013"
      },
      "source": [
        "try:\n",
        "    SCROLL_PAUSE_TIME = 30\n",
        "    driver.get(\"https://www.protothema.gr/anazitisi/?q=τουρισμός\")\n",
        "\n",
        "\n",
        "    last_height = driver.execute_script(\"return document.body.scrollHeight\")\n",
        "\n",
        "    while (last_height < 200000):\n",
        "        driver.execute_script(\"window.scrollTo(0, document.body.scrollHeight);\")\n",
        "        time.sleep(SCROLL_PAUSE_TIME)\n",
        "        new_height = driver.execute_script(\"return document.body.scrollHeight\")\n",
        "        print('height:', new_height)\n",
        "        if new_height == last_height:\n",
        "            print('height =' , new_height)\n",
        "            break\n",
        "        last_height = new_height\n",
        "\n",
        "\n",
        "\n",
        "finally:\n",
        "#    driver.quit()\n",
        "    print(\"OK\")"
      ],
      "execution_count": null,
      "outputs": [
        {
          "output_type": "stream",
          "text": [
            "height: 5574\n",
            "height: 7841\n",
            "height: 9970\n",
            "height: 12153\n",
            "height: 14465\n",
            "height: 16965\n",
            "height: 19048\n",
            "height: 21431\n",
            "height: 23684\n",
            "height: 25890\n",
            "height: 27925\n",
            "height: 30013\n",
            "height: 32143\n",
            "height: 34389\n",
            "height: 36664\n",
            "height: 38777\n",
            "height: 41009\n",
            "height: 43256\n",
            "height: 45508\n",
            "height: 47638\n",
            "height: 49706\n",
            "height: 51832\n",
            "height: 53900\n",
            "height: 55944\n",
            "height: 58025\n",
            "height: 60347\n",
            "height: 62529\n",
            "height: 64981\n",
            "height: 67072\n",
            "height: 69317\n",
            "height: 71610\n",
            "height: 74063\n",
            "height: 76633\n",
            "height: 78878\n",
            "height: 80994\n",
            "height: 83650\n",
            "height: 85693\n",
            "height: 87823\n",
            "height: 89790\n",
            "height: 92126\n",
            "height: 94464\n",
            "height: 96894\n",
            "height: 99504\n",
            "height: 101933\n",
            "height: 104390\n",
            "height: 106633\n",
            "height: 108855\n",
            "height: 111133\n",
            "height: 113246\n",
            "height: 115607\n",
            "height: 118055\n",
            "height: 120484\n",
            "height: 123033\n",
            "height: 125212\n",
            "height: 127842\n",
            "height: 130369\n",
            "height: 132822\n",
            "height: 135066\n",
            "height: 137468\n",
            "height: 139940\n",
            "height: 142171\n",
            "height: 144665\n",
            "height: 146731\n",
            "height: 148892\n",
            "height: 151155\n",
            "height: 153452\n",
            "height: 155458\n",
            "height: 157517\n",
            "height: 160090\n",
            "height: 162432\n",
            "height: 164510\n",
            "height: 166635\n",
            "height: 168723\n",
            "height: 170896\n",
            "height: 173094\n",
            "height: 175314\n",
            "height: 177468\n",
            "height: 179411\n",
            "height: 181677\n",
            "height: 183658\n",
            "height: 185789\n",
            "height: 187856\n",
            "height: 189926\n",
            "height: 192016\n",
            "height: 194030\n",
            "height: 195882\n",
            "height: 197887\n",
            "height: 200023\n",
            "OK\n"
          ],
          "name": "stdout"
        }
      ]
    },
    {
      "cell_type": "code",
      "metadata": {
        "id": "syoPRrtEQgjm"
      },
      "source": [
        "soup = BeautifulSoup(driver.page_source, \"html.parser\")"
      ],
      "execution_count": null,
      "outputs": []
    },
    {
      "cell_type": "code",
      "metadata": {
        "scrolled": false,
        "id": "4s2CwvBUQgjy"
      },
      "source": [
        "stories_list = []\n",
        "\n",
        "stories = soup.find_all('div', { 'class': 'article' })\n",
        "\n",
        "for story in stories:\n",
        "    heading = story.find('h3')\n",
        "    link = heading.find('a')\n",
        "    date = story.find('time')\n",
        "    datetime = date['datetime']\n",
        "\n",
        "    \n",
        "    story_dict = {\n",
        "        'headline': heading.text,\n",
        "        'url': link['href'],\n",
        "        'date': datetime\n",
        "    }\n",
        "     \n",
        "    # Πρόσθεσε το λέξικο στη λίστα\n",
        "    stories_list.append(story_dict)"
      ],
      "execution_count": null,
      "outputs": []
    },
    {
      "cell_type": "code",
      "metadata": {
        "id": "cl6fCVwJQgj_",
        "colab": {
          "base_uri": "https://localhost:8080/"
        },
        "outputId": "e47efd81-03c3-43e8-fcc0-791c2c5f7152"
      },
      "source": [
        "print(len(stories_list))"
      ],
      "execution_count": null,
      "outputs": [
        {
          "output_type": "stream",
          "text": [
            "890\n"
          ],
          "name": "stdout"
        }
      ]
    },
    {
      "cell_type": "code",
      "metadata": {
        "id": "FNsIkNvwQgkY"
      },
      "source": [
        "import pandas as pd\n",
        "df = pd.DataFrame(stories_list)"
      ],
      "execution_count": null,
      "outputs": []
    },
    {
      "cell_type": "code",
      "metadata": {
        "id": "SZsT-HraQgkk",
        "colab": {
          "base_uri": "https://localhost:8080/",
          "height": 419
        },
        "outputId": "9f8e68cf-c53e-4473-8950-50aeba8a9b22"
      },
      "source": [
        "df"
      ],
      "execution_count": null,
      "outputs": [
        {
          "output_type": "execute_result",
          "data": {
            "text/html": [
              "<div>\n",
              "<style scoped>\n",
              "    .dataframe tbody tr th:only-of-type {\n",
              "        vertical-align: middle;\n",
              "    }\n",
              "\n",
              "    .dataframe tbody tr th {\n",
              "        vertical-align: top;\n",
              "    }\n",
              "\n",
              "    .dataframe thead th {\n",
              "        text-align: right;\n",
              "    }\n",
              "</style>\n",
              "<table border=\"1\" class=\"dataframe\">\n",
              "  <thead>\n",
              "    <tr style=\"text-align: right;\">\n",
              "      <th></th>\n",
              "      <th>headline</th>\n",
              "      <th>url</th>\n",
              "      <th>date</th>\n",
              "    </tr>\n",
              "  </thead>\n",
              "  <tbody>\n",
              "    <tr>\n",
              "      <th>0</th>\n",
              "      <td>\\nΗ όμορφη Ελλάδα μας!\\n</td>\n",
              "      <td>https://www.protothema.gr/blogs/p-ilias-makos/...</td>\n",
              "      <td>2021-06-20T08:56:09+03:00</td>\n",
              "    </tr>\n",
              "    <tr>\n",
              "      <th>1</th>\n",
              "      <td>\\nΑξιολόγηση οικονομίας: Έπαινοι και διεθνή εγ...</td>\n",
              "      <td>https://www.protothema.gr/economy/article/1135...</td>\n",
              "      <td>2021-06-19T08:35:00+03:00</td>\n",
              "    </tr>\n",
              "    <tr>\n",
              "      <th>2</th>\n",
              "      <td>\\nΚοινωνικός Τουρισμός – ΟΑΕΔ: Μέχρι πότε ισχύ...</td>\n",
              "      <td>https://www.newmoney.gr/roh/palmos-oikonomias/...</td>\n",
              "      <td>2021-06-18T14:58:40+03:00</td>\n",
              "    </tr>\n",
              "    <tr>\n",
              "      <th>3</th>\n",
              "      <td>\\nΗ οικογένεια Σκλαβενίτη που έκανε το Μεγανήσ...</td>\n",
              "      <td>https://www.protothema.gr/gala/article/1134435...</td>\n",
              "      <td>2021-06-18T06:23:00+03:00</td>\n",
              "    </tr>\n",
              "    <tr>\n",
              "      <th>4</th>\n",
              "      <td>\\nΗ Γερμανία ανοίγει τα σύνορα για τους πλήρως...</td>\n",
              "      <td>https://www.protothema.gr/world/article/113491...</td>\n",
              "      <td>2021-06-17T23:39:00+03:00</td>\n",
              "    </tr>\n",
              "    <tr>\n",
              "      <th>...</th>\n",
              "      <td>...</td>\n",
              "      <td>...</td>\n",
              "      <td>...</td>\n",
              "    </tr>\n",
              "    <tr>\n",
              "      <th>885</th>\n",
              "      <td>\\nΗλικιωμένος πίσω από «χρυσή» διάρρηξη στη Μυ...</td>\n",
              "      <td>https://www.protothema.gr/greece/article/10215...</td>\n",
              "      <td>2020-06-29T09:59:14+03:00</td>\n",
              "    </tr>\n",
              "    <tr>\n",
              "      <th>886</th>\n",
              "      <td>\\nΚοινωνικός τουρισμός: Αντίστροφη μέτρηση για...</td>\n",
              "      <td>https://www.protothema.gr/greece/article/10215...</td>\n",
              "      <td>2020-06-29T09:57:25+03:00</td>\n",
              "    </tr>\n",
              "    <tr>\n",
              "      <th>887</th>\n",
              "      <td>\\nΣκυλακάκης (ΘΕΜΑ 104,6): Εξετάζουμε και τρίτ...</td>\n",
              "      <td>https://www.protothema.gr/economy/article/1021...</td>\n",
              "      <td>2020-06-29T09:55:00+03:00</td>\n",
              "    </tr>\n",
              "    <tr>\n",
              "      <th>888</th>\n",
              "      <td>\\nΜε 8.000 «έξυπνα» τεστ την ημέρα η υποδοχή τ...</td>\n",
              "      <td>https://www.protothema.gr/greece/article/10215...</td>\n",
              "      <td>2020-06-29T07:00:00+03:00</td>\n",
              "    </tr>\n",
              "    <tr>\n",
              "      <th>889</th>\n",
              "      <td>\\nΧαρδαλιάς από Μυτιλήνη: Οι Ένοπλες Δυνάμεις ...</td>\n",
              "      <td>https://www.protothema.gr/koronoios-live/artic...</td>\n",
              "      <td>2020-06-28T22:12:00+03:00</td>\n",
              "    </tr>\n",
              "  </tbody>\n",
              "</table>\n",
              "<p>890 rows × 3 columns</p>\n",
              "</div>"
            ],
            "text/plain": [
              "                                              headline  ...                       date\n",
              "0                             \\nΗ όμορφη Ελλάδα μας!\\n  ...  2021-06-20T08:56:09+03:00\n",
              "1    \\nΑξιολόγηση οικονομίας: Έπαινοι και διεθνή εγ...  ...  2021-06-19T08:35:00+03:00\n",
              "2    \\nΚοινωνικός Τουρισμός – ΟΑΕΔ: Μέχρι πότε ισχύ...  ...  2021-06-18T14:58:40+03:00\n",
              "3    \\nΗ οικογένεια Σκλαβενίτη που έκανε το Μεγανήσ...  ...  2021-06-18T06:23:00+03:00\n",
              "4    \\nΗ Γερμανία ανοίγει τα σύνορα για τους πλήρως...  ...  2021-06-17T23:39:00+03:00\n",
              "..                                                 ...  ...                        ...\n",
              "885  \\nΗλικιωμένος πίσω από «χρυσή» διάρρηξη στη Μυ...  ...  2020-06-29T09:59:14+03:00\n",
              "886  \\nΚοινωνικός τουρισμός: Αντίστροφη μέτρηση για...  ...  2020-06-29T09:57:25+03:00\n",
              "887  \\nΣκυλακάκης (ΘΕΜΑ 104,6): Εξετάζουμε και τρίτ...  ...  2020-06-29T09:55:00+03:00\n",
              "888  \\nΜε 8.000 «έξυπνα» τεστ την ημέρα η υποδοχή τ...  ...  2020-06-29T07:00:00+03:00\n",
              "889  \\nΧαρδαλιάς από Μυτιλήνη: Οι Ένοπλες Δυνάμεις ...  ...  2020-06-28T22:12:00+03:00\n",
              "\n",
              "[890 rows x 3 columns]"
            ]
          },
          "metadata": {
            "tags": []
          },
          "execution_count": 8
        }
      ]
    },
    {
      "cell_type": "code",
      "metadata": {
        "id": "W2-UXXqPQgkt",
        "colab": {
          "base_uri": "https://localhost:8080/",
          "height": 419
        },
        "outputId": "6dbbfe03-1c32-46a3-ce69-dfc999ac3ac9"
      },
      "source": [
        "df.sort_values(by='date', ascending = False)"
      ],
      "execution_count": null,
      "outputs": [
        {
          "output_type": "execute_result",
          "data": {
            "text/html": [
              "<div>\n",
              "<style scoped>\n",
              "    .dataframe tbody tr th:only-of-type {\n",
              "        vertical-align: middle;\n",
              "    }\n",
              "\n",
              "    .dataframe tbody tr th {\n",
              "        vertical-align: top;\n",
              "    }\n",
              "\n",
              "    .dataframe thead th {\n",
              "        text-align: right;\n",
              "    }\n",
              "</style>\n",
              "<table border=\"1\" class=\"dataframe\">\n",
              "  <thead>\n",
              "    <tr style=\"text-align: right;\">\n",
              "      <th></th>\n",
              "      <th>headline</th>\n",
              "      <th>url</th>\n",
              "      <th>date</th>\n",
              "    </tr>\n",
              "  </thead>\n",
              "  <tbody>\n",
              "    <tr>\n",
              "      <th>0</th>\n",
              "      <td>\\nΗ όμορφη Ελλάδα μας!\\n</td>\n",
              "      <td>https://www.protothema.gr/blogs/p-ilias-makos/...</td>\n",
              "      <td>2021-06-20T08:56:09+03:00</td>\n",
              "    </tr>\n",
              "    <tr>\n",
              "      <th>1</th>\n",
              "      <td>\\nΑξιολόγηση οικονομίας: Έπαινοι και διεθνή εγ...</td>\n",
              "      <td>https://www.protothema.gr/economy/article/1135...</td>\n",
              "      <td>2021-06-19T08:35:00+03:00</td>\n",
              "    </tr>\n",
              "    <tr>\n",
              "      <th>2</th>\n",
              "      <td>\\nΚοινωνικός Τουρισμός – ΟΑΕΔ: Μέχρι πότε ισχύ...</td>\n",
              "      <td>https://www.newmoney.gr/roh/palmos-oikonomias/...</td>\n",
              "      <td>2021-06-18T14:58:40+03:00</td>\n",
              "    </tr>\n",
              "    <tr>\n",
              "      <th>3</th>\n",
              "      <td>\\nΗ οικογένεια Σκλαβενίτη που έκανε το Μεγανήσ...</td>\n",
              "      <td>https://www.protothema.gr/gala/article/1134435...</td>\n",
              "      <td>2021-06-18T06:23:00+03:00</td>\n",
              "    </tr>\n",
              "    <tr>\n",
              "      <th>4</th>\n",
              "      <td>\\nΗ Γερμανία ανοίγει τα σύνορα για τους πλήρως...</td>\n",
              "      <td>https://www.protothema.gr/world/article/113491...</td>\n",
              "      <td>2021-06-17T23:39:00+03:00</td>\n",
              "    </tr>\n",
              "    <tr>\n",
              "      <th>...</th>\n",
              "      <td>...</td>\n",
              "      <td>...</td>\n",
              "      <td>...</td>\n",
              "    </tr>\n",
              "    <tr>\n",
              "      <th>885</th>\n",
              "      <td>\\nΗλικιωμένος πίσω από «χρυσή» διάρρηξη στη Μυ...</td>\n",
              "      <td>https://www.protothema.gr/greece/article/10215...</td>\n",
              "      <td>2020-06-29T09:59:14+03:00</td>\n",
              "    </tr>\n",
              "    <tr>\n",
              "      <th>886</th>\n",
              "      <td>\\nΚοινωνικός τουρισμός: Αντίστροφη μέτρηση για...</td>\n",
              "      <td>https://www.protothema.gr/greece/article/10215...</td>\n",
              "      <td>2020-06-29T09:57:25+03:00</td>\n",
              "    </tr>\n",
              "    <tr>\n",
              "      <th>887</th>\n",
              "      <td>\\nΣκυλακάκης (ΘΕΜΑ 104,6): Εξετάζουμε και τρίτ...</td>\n",
              "      <td>https://www.protothema.gr/economy/article/1021...</td>\n",
              "      <td>2020-06-29T09:55:00+03:00</td>\n",
              "    </tr>\n",
              "    <tr>\n",
              "      <th>888</th>\n",
              "      <td>\\nΜε 8.000 «έξυπνα» τεστ την ημέρα η υποδοχή τ...</td>\n",
              "      <td>https://www.protothema.gr/greece/article/10215...</td>\n",
              "      <td>2020-06-29T07:00:00+03:00</td>\n",
              "    </tr>\n",
              "    <tr>\n",
              "      <th>889</th>\n",
              "      <td>\\nΧαρδαλιάς από Μυτιλήνη: Οι Ένοπλες Δυνάμεις ...</td>\n",
              "      <td>https://www.protothema.gr/koronoios-live/artic...</td>\n",
              "      <td>2020-06-28T22:12:00+03:00</td>\n",
              "    </tr>\n",
              "  </tbody>\n",
              "</table>\n",
              "<p>890 rows × 3 columns</p>\n",
              "</div>"
            ],
            "text/plain": [
              "                                              headline  ...                       date\n",
              "0                             \\nΗ όμορφη Ελλάδα μας!\\n  ...  2021-06-20T08:56:09+03:00\n",
              "1    \\nΑξιολόγηση οικονομίας: Έπαινοι και διεθνή εγ...  ...  2021-06-19T08:35:00+03:00\n",
              "2    \\nΚοινωνικός Τουρισμός – ΟΑΕΔ: Μέχρι πότε ισχύ...  ...  2021-06-18T14:58:40+03:00\n",
              "3    \\nΗ οικογένεια Σκλαβενίτη που έκανε το Μεγανήσ...  ...  2021-06-18T06:23:00+03:00\n",
              "4    \\nΗ Γερμανία ανοίγει τα σύνορα για τους πλήρως...  ...  2021-06-17T23:39:00+03:00\n",
              "..                                                 ...  ...                        ...\n",
              "885  \\nΗλικιωμένος πίσω από «χρυσή» διάρρηξη στη Μυ...  ...  2020-06-29T09:59:14+03:00\n",
              "886  \\nΚοινωνικός τουρισμός: Αντίστροφη μέτρηση για...  ...  2020-06-29T09:57:25+03:00\n",
              "887  \\nΣκυλακάκης (ΘΕΜΑ 104,6): Εξετάζουμε και τρίτ...  ...  2020-06-29T09:55:00+03:00\n",
              "888  \\nΜε 8.000 «έξυπνα» τεστ την ημέρα η υποδοχή τ...  ...  2020-06-29T07:00:00+03:00\n",
              "889  \\nΧαρδαλιάς από Μυτιλήνη: Οι Ένοπλες Δυνάμεις ...  ...  2020-06-28T22:12:00+03:00\n",
              "\n",
              "[890 rows x 3 columns]"
            ]
          },
          "metadata": {
            "tags": []
          },
          "execution_count": 9
        }
      ]
    },
    {
      "cell_type": "code",
      "metadata": {
        "id": "HgNGzCV-Qgk3",
        "colab": {
          "base_uri": "https://localhost:8080/",
          "height": 204
        },
        "outputId": "c1cf5d69-258d-4b5f-9a57-56f86b81dd5a"
      },
      "source": [
        "df.tail()"
      ],
      "execution_count": null,
      "outputs": [
        {
          "output_type": "execute_result",
          "data": {
            "text/html": [
              "<div>\n",
              "<style scoped>\n",
              "    .dataframe tbody tr th:only-of-type {\n",
              "        vertical-align: middle;\n",
              "    }\n",
              "\n",
              "    .dataframe tbody tr th {\n",
              "        vertical-align: top;\n",
              "    }\n",
              "\n",
              "    .dataframe thead th {\n",
              "        text-align: right;\n",
              "    }\n",
              "</style>\n",
              "<table border=\"1\" class=\"dataframe\">\n",
              "  <thead>\n",
              "    <tr style=\"text-align: right;\">\n",
              "      <th></th>\n",
              "      <th>headline</th>\n",
              "      <th>url</th>\n",
              "      <th>date</th>\n",
              "    </tr>\n",
              "  </thead>\n",
              "  <tbody>\n",
              "    <tr>\n",
              "      <th>885</th>\n",
              "      <td>\\nΗλικιωμένος πίσω από «χρυσή» διάρρηξη στη Μυ...</td>\n",
              "      <td>https://www.protothema.gr/greece/article/10215...</td>\n",
              "      <td>2020-06-29T09:59:14+03:00</td>\n",
              "    </tr>\n",
              "    <tr>\n",
              "      <th>886</th>\n",
              "      <td>\\nΚοινωνικός τουρισμός: Αντίστροφη μέτρηση για...</td>\n",
              "      <td>https://www.protothema.gr/greece/article/10215...</td>\n",
              "      <td>2020-06-29T09:57:25+03:00</td>\n",
              "    </tr>\n",
              "    <tr>\n",
              "      <th>887</th>\n",
              "      <td>\\nΣκυλακάκης (ΘΕΜΑ 104,6): Εξετάζουμε και τρίτ...</td>\n",
              "      <td>https://www.protothema.gr/economy/article/1021...</td>\n",
              "      <td>2020-06-29T09:55:00+03:00</td>\n",
              "    </tr>\n",
              "    <tr>\n",
              "      <th>888</th>\n",
              "      <td>\\nΜε 8.000 «έξυπνα» τεστ την ημέρα η υποδοχή τ...</td>\n",
              "      <td>https://www.protothema.gr/greece/article/10215...</td>\n",
              "      <td>2020-06-29T07:00:00+03:00</td>\n",
              "    </tr>\n",
              "    <tr>\n",
              "      <th>889</th>\n",
              "      <td>\\nΧαρδαλιάς από Μυτιλήνη: Οι Ένοπλες Δυνάμεις ...</td>\n",
              "      <td>https://www.protothema.gr/koronoios-live/artic...</td>\n",
              "      <td>2020-06-28T22:12:00+03:00</td>\n",
              "    </tr>\n",
              "  </tbody>\n",
              "</table>\n",
              "</div>"
            ],
            "text/plain": [
              "                                              headline  ...                       date\n",
              "885  \\nΗλικιωμένος πίσω από «χρυσή» διάρρηξη στη Μυ...  ...  2020-06-29T09:59:14+03:00\n",
              "886  \\nΚοινωνικός τουρισμός: Αντίστροφη μέτρηση για...  ...  2020-06-29T09:57:25+03:00\n",
              "887  \\nΣκυλακάκης (ΘΕΜΑ 104,6): Εξετάζουμε και τρίτ...  ...  2020-06-29T09:55:00+03:00\n",
              "888  \\nΜε 8.000 «έξυπνα» τεστ την ημέρα η υποδοχή τ...  ...  2020-06-29T07:00:00+03:00\n",
              "889  \\nΧαρδαλιάς από Μυτιλήνη: Οι Ένοπλες Δυνάμεις ...  ...  2020-06-28T22:12:00+03:00\n",
              "\n",
              "[5 rows x 3 columns]"
            ]
          },
          "metadata": {
            "tags": []
          },
          "execution_count": 10
        }
      ]
    },
    {
      "cell_type": "code",
      "metadata": {
        "id": "pHLhks21Qglm"
      },
      "source": [
        "df.to_csv(\"tourism_protothema.csv\", index=False)"
      ],
      "execution_count": null,
      "outputs": []
    },
    {
      "cell_type": "code",
      "metadata": {
        "id": "-HePWZRAQgl9",
        "colab": {
          "base_uri": "https://localhost:8080/"
        },
        "outputId": "892df5c4-89c0-4f09-99db-81451d478c9a"
      },
      "source": [
        "from google.colab import drive\n",
        "drive.mount('/content/gdrive')"
      ],
      "execution_count": null,
      "outputs": [
        {
          "output_type": "stream",
          "text": [
            "Mounted at /content/gdrive\n"
          ],
          "name": "stdout"
        }
      ]
    },
    {
      "cell_type": "code",
      "metadata": {
        "id": "EQsPzjztSvkm"
      },
      "source": [
        "df.to_csv(\"/content/gdrive/My Drive/Colab Notebooks/tourism_protothema.tsv\", sep='\\t')"
      ],
      "execution_count": null,
      "outputs": []
    }
  ]
}